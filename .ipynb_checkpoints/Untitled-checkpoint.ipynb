{
 "cells": [
  {
   "cell_type": "code",
   "execution_count": 105,
   "metadata": {},
   "outputs": [],
   "source": [
    "import mplfinance as mpf\n",
    "import FinanceDataReader as fdr\n",
    "import matplotlib.pyplot as plt\n",
    "import matplotlib.ticker as ticker\n",
    "import numpy as np\n",
    "import pandas as pd\n",
    "import datetime\n",
    "from mpl_finance import candlestick2_ohlc\n",
    "import random"
   ]
  },
  {
   "cell_type": "markdown",
   "metadata": {},
   "source": [
    "# 시총 순위"
   ]
  },
  {
   "cell_type": "code",
   "execution_count": 38,
   "metadata": {},
   "outputs": [],
   "source": [
    "code_list = ['KS11'] # KOSPI\n",
    "marcap = pd.read_pickle('202108_marcap_rank.pkl')\n",
    "code_list=code_list + marcap['Code'].to_list()"
   ]
  },
  {
   "cell_type": "markdown",
   "metadata": {},
   "source": [
    "# Iteration"
   ]
  },
  {
   "cell_type": "code",
   "execution_count": 56,
   "metadata": {},
   "outputs": [],
   "source": [
    "def get_buy_signal(df):\n",
    "    middle_band = df['Close'].rolling(window=20).mean()\n",
    "    upper_band = middle_band + df['Close'].rolling(window=20).std()\n",
    "    lower_band = middle_band - df['Close'].rolling(window=20).std()\n",
    "\n",
    "    buy_signal = [np.nan]\n",
    "    for idx_loc in range(1, len(df)):\n",
    "        close_today = df['Close'][idx_loc]\n",
    "        lb_today = lower_band[idx_loc]\n",
    "        clsoe_yesterday = df['Close'][idx_loc-1]\n",
    "        lb_yesterday = lower_band[idx_loc-1]\n",
    "\n",
    "        if clsoe_yesterday < lb_yesterday and close_today > lb_today: # 종가가 밴드하단 상향돌파\n",
    "            buy_signal.append(df['Low'][idx_loc]) \n",
    "        else:\n",
    "            buy_signal.append(np.nan)\n",
    "\n",
    "    buy_signal = pd.Series(buy_signal, index=df.index)\n",
    "    return buy_signal"
   ]
  },
  {
   "cell_type": "code",
   "execution_count": 57,
   "metadata": {},
   "outputs": [],
   "source": [
    "buy_signal = get_buy_signal(df)"
   ]
  },
  {
   "cell_type": "code",
   "execution_count": 59,
   "metadata": {},
   "outputs": [
    {
     "data": {
      "text/plain": [
       "Date\n",
       "2001-08-01      23200.0\n",
       "2001-09-03      24700.0\n",
       "2001-09-13      23200.0\n",
       "2001-12-28      27800.0\n",
       "2002-04-11      42000.0\n",
       "                ...    \n",
       "2021-03-23    1500000.0\n",
       "2021-04-23    1534000.0\n",
       "2021-05-03    1545000.0\n",
       "2021-05-26    1511000.0\n",
       "2021-08-09    1441000.0\n",
       "Length: 288, dtype: float64"
      ]
     },
     "execution_count": 59,
     "metadata": {},
     "output_type": "execute_result"
    }
   ],
   "source": [
    "buy_signal.dropna()"
   ]
  },
  {
   "cell_type": "code",
   "execution_count": 130,
   "metadata": {},
   "outputs": [
    {
     "data": {
      "text/plain": [
       "[9, 3, 0]"
      ]
     },
     "execution_count": 130,
     "metadata": {},
     "output_type": "execute_result"
    }
   ],
   "source": [
    "random.sample(range(10),3)"
   ]
  },
  {
   "cell_type": "code",
   "execution_count": 140,
   "metadata": {},
   "outputs": [],
   "source": [
    "chart_periods = 20"
   ]
  },
  {
   "cell_type": "code",
   "execution_count": 51,
   "metadata": {},
   "outputs": [
    {
     "name": "stdout",
     "output_type": "stream",
     "text": [
      "KS11 551\n",
      "005930 880\n",
      "000660 1223\n",
      "035420 1481\n",
      "035720 1797\n",
      "051910 2060\n",
      "207940 2106\n",
      "005935 2424\n",
      "006400 2772\n",
      "005380 3119\n",
      "068270 3343\n",
      "000270 3686\n",
      "005490 4018\n",
      "028260 4110\n",
      "012330 4452\n",
      "066570 4734\n",
      "096770 4939\n",
      "051900 5227\n"
     ]
    }
   ],
   "source": [
    "for code in code_list:\n",
    "    df = fdr.DataReader(code) # get ohlcv data\n",
    "    buy_signal = get_buy_signal(df)\n",
    "    buy_dates = buy_signal.dropna()\n",
    "    num_buy_signal = len(buy_dates)\n",
    "    \n",
    "    # save label 1 figs\n",
    "    # save label 0 figs (random sampling)\n",
    "    \n",
    "    break"
   ]
  },
  {
   "cell_type": "code",
   "execution_count": 164,
   "metadata": {},
   "outputs": [],
   "source": [
    "buy_signal = get_buy_signal(df)\n",
    "buy_dates = buy_signal.dropna()\n",
    "num_buy_signal = len(buy_dates)\n",
    "\n",
    "save_path = 'data/1/' + code\n",
    "#plot_candle_img(df, buy_dates, chart_periods, save_path)\n",
    "\n",
    "#save_path = 'data/0/' + code\n",
    "#plot_candle_img(df, no_buy_dates, chart_periods, save_path)"
   ]
  },
  {
   "cell_type": "code",
   "execution_count": 158,
   "metadata": {
    "scrolled": true
   },
   "outputs": [
    {
     "data": {
      "text/plain": [
       "Date\n",
       "2001-08-01      23200.0\n",
       "2001-09-03      24700.0\n",
       "2001-09-13      23200.0\n",
       "2001-12-28      27800.0\n",
       "2002-04-11      42000.0\n",
       "                ...    \n",
       "2021-03-23    1500000.0\n",
       "2021-04-23    1534000.0\n",
       "2021-05-03    1545000.0\n",
       "2021-05-26    1511000.0\n",
       "2021-08-09    1441000.0\n",
       "Length: 288, dtype: float64"
      ]
     },
     "execution_count": 158,
     "metadata": {},
     "output_type": "execute_result"
    }
   ],
   "source": [
    "buy_dates"
   ]
  },
  {
   "cell_type": "code",
   "execution_count": 170,
   "metadata": {},
   "outputs": [],
   "source": [
    "def plot_candle_img(df, dates, chart_periods, save_path):\n",
    "    for date in dates.index:\n",
    "        candle_data = df[:date][-chart_periods:]\n",
    "        save_path += '_' + str(date)+'.jpg'\n",
    "        print(save_path)\n",
    "        save_candle(candle_data, save_path)\n",
    "        break"
   ]
  },
  {
   "cell_type": "code",
   "execution_count": null,
   "metadata": {},
   "outputs": [],
   "source": [
    "plot"
   ]
  },
  {
   "cell_type": "code",
   "execution_count": 168,
   "metadata": {},
   "outputs": [],
   "source": [
    "def save_candle(data, save_path, fig_size=(5,5)):\n",
    "    fig, ax = plt.subplots(figsize=fig_size) # 여기서 차트 크기를 조정 할 수 있습니다.\n",
    "\n",
    "    # 아래 명령어를 통해 시고저종 데이터를 통해 캔들 차트를 그립니다.\n",
    "    \"\"\"\n",
    "    candlestick2_ohlc(ax,data['Open'],data['High'],\n",
    "                      data['Low'],data['Close'],width=0.6)\n",
    "    \"\"\"\n",
    "\n",
    "    candlestick2_ohlc(ax,data['Open'],data['High'],\n",
    "                      data['Low'],data['Close'],width=0.6, colorup='r', colordown='b')\n",
    "    \n",
    "    ax.xaxis.set_major_locator(ticker.MaxNLocator(6))\n",
    "\n",
    "    fig.autofmt_xdate()\n",
    "\n",
    "    # 차트 타이틀을 지정 할 수 있습니다.\n",
    "    # plt.title('Title')\n",
    "    \n",
    "    # tick 숨기기\n",
    "    plt.xticks([])\n",
    "    plt.yticks([])\n",
    "    \n",
    "    plt.savefig(save_path)\n",
    "    plt.show()"
   ]
  }
 ],
 "metadata": {
  "kernelspec": {
   "display_name": "Python 3",
   "language": "python",
   "name": "python3"
  },
  "language_info": {
   "codemirror_mode": {
    "name": "ipython",
    "version": 3
   },
   "file_extension": ".py",
   "mimetype": "text/x-python",
   "name": "python",
   "nbconvert_exporter": "python",
   "pygments_lexer": "ipython3",
   "version": "3.8.5"
  },
  "toc": {
   "base_numbering": 1,
   "nav_menu": {},
   "number_sections": true,
   "sideBar": true,
   "skip_h1_title": false,
   "title_cell": "Table of Contents",
   "title_sidebar": "Contents",
   "toc_cell": false,
   "toc_position": {},
   "toc_section_display": true,
   "toc_window_display": false
  }
 },
 "nbformat": 4,
 "nbformat_minor": 4
}
