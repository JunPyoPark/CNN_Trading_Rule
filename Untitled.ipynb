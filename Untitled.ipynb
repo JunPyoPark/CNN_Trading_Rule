{
 "cells": [
  {
   "cell_type": "code",
   "execution_count": 105,
   "metadata": {},
   "outputs": [],
   "source": [
    "import mplfinance as mpf\n",
    "import FinanceDataReader as fdr\n",
    "import matplotlib.pyplot as plt\n",
    "import matplotlib.ticker as ticker\n",
    "import numpy as np\n",
    "import pandas as pd\n",
    "import datetime\n",
    "from mpl_finance import candlestick2_ohlc\n",
    "import random"
   ]
  },
  {
   "cell_type": "markdown",
   "metadata": {},
   "source": [
    "# 시총 순위"
   ]
  },
  {
   "cell_type": "code",
   "execution_count": 38,
   "metadata": {},
   "outputs": [],
   "source": [
    "code_list = ['KS11'] # KOSPI\n",
    "marcap = pd.read_pickle('202108_marcap_rank.pkl')\n",
    "code_list=code_list + marcap['Code'].to_list()"
   ]
  },
  {
   "cell_type": "markdown",
   "metadata": {},
   "source": [
    "# Iteration"
   ]
  },
  {
   "cell_type": "code",
   "execution_count": 56,
   "metadata": {},
   "outputs": [],
   "source": [
    "def get_buy_signal(df):\n",
    "    middle_band = df['Close'].rolling(window=20).mean()\n",
    "    upper_band = middle_band + df['Close'].rolling(window=20).std()\n",
    "    lower_band = middle_band - df['Close'].rolling(window=20).std()\n",
    "\n",
    "    buy_signal = [np.nan]\n",
    "    for idx_loc in range(1, len(df)):\n",
    "        close_today = df['Close'][idx_loc]\n",
    "        lb_today = lower_band[idx_loc]\n",
    "        clsoe_yesterday = df['Close'][idx_loc-1]\n",
    "        lb_yesterday = lower_band[idx_loc-1]\n",
    "\n",
    "        if clsoe_yesterday < lb_yesterday and close_today > lb_today: # 종가가 밴드하단 상향돌파\n",
    "            buy_signal.append(df['Low'][idx_loc]) \n",
    "        else:\n",
    "            buy_signal.append(np.nan)\n",
    "\n",
    "    buy_signal = pd.Series(buy_signal, index=df.index)\n",
    "    return buy_signal"
   ]
  },
  {
   "cell_type": "code",
   "execution_count": 140,
   "metadata": {},
   "outputs": [],
   "source": [
    "chart_periods = 20"
   ]
  },
  {
   "cell_type": "code",
   "execution_count": 218,
   "metadata": {},
   "outputs": [],
   "source": [
    "def plot_candle_img(df, dates, chart_periods, save_path):\n",
    "    \n",
    "    if type(dates) == list:\n",
    "        pass\n",
    "    else:\n",
    "        dates = dates.index\n",
    "           \n",
    "    \n",
    "    for date in dates:\n",
    "        candle_data = df[:date][-chart_periods:]\n",
    "        file_path = save_path + '_' + str(date)[:-9]+'.jpg'\n",
    "        save_candle(candle_data, file_path)"
   ]
  },
  {
   "cell_type": "code",
   "execution_count": 219,
   "metadata": {},
   "outputs": [],
   "source": [
    "def save_candle(data, file_path, fig_size=(5,5)):\n",
    "    fig, ax = plt.subplots(figsize=fig_size) # 여기서 차트 크기를 조정 할 수 있습니다.\n",
    "\n",
    "    # 아래 명령어를 통해 시고저종 데이터를 통해 캔들 차트를 그립니다.\n",
    "    \"\"\"\n",
    "    candlestick2_ohlc(ax,data['Open'],data['High'],\n",
    "                      data['Low'],data['Close'],width=0.6)\n",
    "    \"\"\"\n",
    "\n",
    "    candlestick2_ohlc(ax,data['Open'],data['High'],\n",
    "                      data['Low'],data['Close'],width=0.6, colorup='r', colordown='b')\n",
    "    \n",
    "    ax.xaxis.set_major_locator(ticker.MaxNLocator(6))\n",
    "\n",
    "    fig.autofmt_xdate()\n",
    "\n",
    "    # 차트 타이틀을 지정 할 수 있습니다.\n",
    "    # plt.title('Title')\n",
    "    \n",
    "    # tick 숨기기\n",
    "    plt.xticks([])\n",
    "    plt.yticks([])\n",
    "    plt.savefig(file_path)\n",
    "    # plt.show()\n",
    "    plt.close()\n",
    "    "
   ]
  },
  {
   "cell_type": "code",
   "execution_count": null,
   "metadata": {},
   "outputs": [],
   "source": [
    "for code in code_list:\n",
    "    df = fdr.DataReader(code) # get ohlcv data\n",
    "    buy_signal = get_buy_signal(df)\n",
    "    buy_dates = buy_signal.dropna()\n",
    "    num_buy_signal = len(buy_dates)\n",
    "    \n",
    "    # save label 1 figs\n",
    "    save_path = 'data/1/' + code\n",
    "    plot_candle_img(df, buy_dates, chart_periods, save_path)\n",
    "    \n",
    "    \n",
    "    # save label 0 figs (random sampling)\n",
    "    save_path = 'data/0/' + code\n",
    "    no_buy_dates = buy_signal[20:][buy_signal[20:].fillna(0) == 0] # 20일 이후 no buy 인 날짜중\n",
    "    no_buy_dates = random.sample(list(no_buy_dates.index), num_buy_signal) # 샘플링\n",
    "    plot_candle_img(df, no_buy_dates, chart_periods, save_path)"
   ]
  }
 ],
 "metadata": {
  "kernelspec": {
   "display_name": "Python 3",
   "language": "python",
   "name": "python3"
  },
  "language_info": {
   "codemirror_mode": {
    "name": "ipython",
    "version": 3
   },
   "file_extension": ".py",
   "mimetype": "text/x-python",
   "name": "python",
   "nbconvert_exporter": "python",
   "pygments_lexer": "ipython3",
   "version": "3.8.5"
  },
  "toc": {
   "base_numbering": 1,
   "nav_menu": {},
   "number_sections": true,
   "sideBar": true,
   "skip_h1_title": false,
   "title_cell": "Table of Contents",
   "title_sidebar": "Contents",
   "toc_cell": false,
   "toc_position": {},
   "toc_section_display": true,
   "toc_window_display": false
  }
 },
 "nbformat": 4,
 "nbformat_minor": 4
}
